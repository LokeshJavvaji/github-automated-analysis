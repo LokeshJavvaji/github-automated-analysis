{
 "cells": [
  {
   "cell_type": "code",
   "execution_count": null,
   "id": "04221ea8",
   "metadata": {},
   "outputs": [
    {
     "name": "stdout",
     "output_type": "stream",
     "text": [
      " * Serving Flask app \"__main__\" (lazy loading)\n",
      " * Environment: production\n",
      "   WARNING: This is a development server. Do not use it in a production deployment.\n",
      "   Use a production WSGI server instead.\n",
      " * Debug mode: on\n"
     ]
    },
    {
     "name": "stderr",
     "output_type": "stream",
     "text": [
      " * Running on http://127.0.0.1:5000/ (Press CTRL+C to quit)\n",
      "127.0.0.1 - - [19/Jun/2023 22:34:05] \"\u001b[37mGET / HTTP/1.1\u001b[0m\" 200 -\n",
      "127.0.0.1 - - [19/Jun/2023 22:34:19] \"\u001b[37mPOST / HTTP/1.1\u001b[0m\" 200 -\n",
      "127.0.0.1 - - [19/Jun/2023 22:35:18] \"\u001b[37mPOST / HTTP/1.1\u001b[0m\" 200 -\n"
     ]
    }
   ],
   "source": [
    "import tkinter as tk\n",
    "import requests\n",
    "from urllib.parse import urlparse\n",
    "from transformers import GPT2Tokenizer, GPT2LMHeadModel\n",
    "from flask import Flask, render_template, request\n",
    "\n",
    "app = Flask(__name__)\n",
    "\n",
    "def evaluate_complexity(repository_name):\n",
    "    # Initialize tokenizer and model\n",
    "    tokenizer = GPT2Tokenizer.from_pretrained(\"gpt2\")\n",
    "    model = GPT2LMHeadModel.from_pretrained(\"gpt2\")\n",
    "    \n",
    "    # Prompt engineering\n",
    "    prompt = f\"Evaluate the technical complexity of the repository: {repository_name}. Analyze the code and provide insights on its complexity.\"\n",
    "    input_ids = tokenizer.encode(prompt, add_special_tokens=False, truncation=True, max_length=100, return_tensors=\"pt\")\n",
    "    output = model.generate(input_ids=input_ids, max_length=200, pad_token_id=tokenizer.eos_token_id)\n",
    "    \n",
    "    complexity_score = calculate_complexity_score(output)\n",
    "    return complexity_score\n",
    "tokenizer = GPT2Tokenizer.from_pretrained(\"gpt2\")\n",
    "def calculate_complexity_score(output):\n",
    "    # Process the GPT output to derive the complexity score\n",
    "    processed_output = tokenizer.decode(output[0], skip_special_tokens=True)\n",
    "    \n",
    "    # Count the number of words in the processed output\n",
    "    word_count = len(processed_output.split())\n",
    "    \n",
    "    # Define a mapping between word count and complexity score\n",
    "    max_complexity_score = 10000\n",
    "    \n",
    "    # Determine the complexity score based on the output length\n",
    "    complexity_score = min(word_count, max_complexity_score)\n",
    "    \n",
    "    return complexity_score\n",
    "    \n",
    "    \n",
    "\n",
    "\n",
    "@app.route('/', methods=['GET', 'POST'])\n",
    "def fetch_github_repositories():\n",
    "    if request.method == 'POST':\n",
    "        user_url = request.form['user_url']\n",
    "        \n",
    "        # Extracting the GitHub username from the user URL\n",
    "        parsed_url = urlparse(user_url)\n",
    "        username = parsed_url.path.strip(\"/\")\n",
    "        \n",
    "        if not username:\n",
    "            return render_template('index.html', error=\"Invalid GitHub user URL.\")\n",
    "        \n",
    "        # API endpoint to fetch user repositories\n",
    "        api_url = f\"https://api.github.com/users/{username}/repos\"\n",
    "        \n",
    "        try:\n",
    "            response = requests.get(api_url)\n",
    "            response.raise_for_status()\n",
    "            repositories = response.json()\n",
    "            \n",
    "            # Process repositories\n",
    "            if repositories:\n",
    "                repository_names = [repo[\"name\"] for repo in repositories]\n",
    "                longest_repo_name = max(repository_names, key=len)\n",
    "                most_complex_repo = evaluate_complexity(longest_repo_name)\n",
    "                \n",
    "                return render_template('index.html', most_complex_repo=longest_repo_name, complexity_score=most_complex_repo)\n",
    "            else:\n",
    "                return render_template('index.html', error=\"No repositories found.\")\n",
    "        except requests.exceptions.HTTPError as err:\n",
    "            return render_template('index.html', error=f\"An HTTP error occurred: {err}\")\n",
    "        except requests.exceptions.RequestException as err:\n",
    "            return render_template('index.html', error=f\"An error occurred: {err}\")\n",
    "    \n",
    "    return render_template('index.html')\n",
    "\n",
    "if __name__ == '__main__':\n",
    "    app.run(debug=True,use_reloader=False)\n"
   ]
  },
  {
   "cell_type": "code",
   "execution_count": null,
   "id": "3acde6e8",
   "metadata": {},
   "outputs": [],
   "source": []
  }
 ],
 "metadata": {
  "kernelspec": {
   "display_name": "Python 3",
   "language": "python",
   "name": "python3"
  },
  "language_info": {
   "codemirror_mode": {
    "name": "ipython",
    "version": 3
   },
   "file_extension": ".py",
   "mimetype": "text/x-python",
   "name": "python",
   "nbconvert_exporter": "python",
   "pygments_lexer": "ipython3",
   "version": "3.8.8"
  }
 },
 "nbformat": 4,
 "nbformat_minor": 5
}
